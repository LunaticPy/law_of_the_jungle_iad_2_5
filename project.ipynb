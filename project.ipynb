{
 "cells": [
  {
   "cell_type": "markdown",
   "metadata": {
    "nbpresent": {
     "id": "8f1c4851-3937-4cdd-b48a-4caba7886bfa"
    }
   },
   "source": [
    "# Закон джунглей\n",
    "\n",
    "## Логика\n",
    "\n",
    "Изначально задается размер поля **SizeX, SizeY**. Количество существ каждого вида (хищник/препятствие/жертва), а также созаются два класса **Entity** и **Field**. В одном, соответсвенно, создается существо, в другом реализуются функции для поведения его на поле."
   ]
  },
  {
   "cell_type": "code",
   "execution_count": null,
   "metadata": {
    "collapsed": true,
    "nbpresent": {
     "id": "8fc6df1c-3c9c-494b-b512-9dd1083ed89a"
    }
   },
   "outputs": [],
   "source": [
    "class Entity:\n",
    "\n",
    "    PLifeTime = 2\n",
    "\n",
    "    VLifeTime = 9\n",
    "\n",
    "\n",
    "\n",
    "\n",
    "\n",
    "    def __init__(self, x, y,lifetime):\n",
    "\n",
    "        self.x = x\n",
    "\n",
    "        self.y = y\n",
    "\n",
    "        self.lifetime = lifetime;\n",
    "\n",
    "        self.borntime = 3;"
   ]
  },
  {
   "cell_type": "markdown",
   "metadata": {
    "nbpresent": {
     "id": "6a1152b3-939b-4a7e-bb78-60143c287d7e"
    }
   },
   "source": [
    "В зависимости от типа (хищник/жертва) существу присваивается время жизни (**PLifeTime/VLifeTime**), период для размножения **borntime** и координаты на поле.\n",
    "\n",
    "Чтобы существа двигались не совсем рандомно, на каждом шаге каждой свободной клетке массива будем стваить в соответствие число, которое будет равно сумме шагов каждого хищника до данной клетки. Скажем, например, если хищнику нужно больше ходов чтобы добраться до определенной клетки, то жертве лучше идти в эту клетку. То же самое и для хищника.\n",
    "\n",
    "В Field реализованы следующие функции:\n",
    "\n",
    "* Инициализация (то же что и в примере)  \n",
    "\n",
    "\n",
    "* update(self) реализует шаг на поле.  \n",
    "\n",
    "\n",
    "* toField(self,items,pfield, let) отвечает за процессы рождения и смерти. Проверяет счетчики времени жизни и периода рождения\n",
    "\n",
    "\n",
    "\n",
    "* eat(self, item) поедание жертв\n",
    "\n",
    "\n",
    "\n",
    "* born(self,items, item, pfield,lifetime) рождение\n",
    "\n",
    "\n",
    "\n",
    "* findtheway(self,item,pfield) поиск хода\n",
    "\n",
    "\n",
    "* setProbabilityForOne(self, field, predX, predY) инициализация расстояний до данного хищника\n",
    "\n",
    "\n",
    "\n",
    "* setProbability(self) суммирование этих расстояний для всех хищников\n",
    "\n",
    "\n",
    "\n",
    "\n",
    "* inXY(self,x,y) проверка на пустоту"
   ]
  },
  {
   "cell_type": "markdown",
   "metadata": {
    "nbpresent": {
     "id": "f4385e5c-685e-4f6a-ad14-5c218de66a65"
    }
   },
   "source": [
    " Заполняем \"поле вероятности\" для одного хищника. Это просто сумма расстояний от него до данной клетки."
   ]
  },
  {
   "cell_type": "code",
   "execution_count": null,
   "metadata": {
    "collapsed": true,
    "nbpresent": {
     "id": "02dbd0ae-d7d2-443c-ae80-b931ce455161"
    }
   },
   "outputs": [],
   "source": [
    "def setProbabilityForOne(self, field, predX, predY):\n",
    "\n",
    "        for x, y in self.xy:\n",
    "\n",
    "            field[x][y] = field[x][y] + abs(x  - predX) + abs(y - predY)\n",
    "\n",
    "        return field"
   ]
  },
  {
   "cell_type": "markdown",
   "metadata": {
    "nbpresent": {
     "id": "f9524baf-c7c3-4c7e-a905-a7837e383f8a"
    }
   },
   "source": [
    " Далее суммируем эти значения по сем хищникам. При этом в клетки где находятся стены кладем отрицательное значение, чтобы потом их не рассматривать. Возвращаем заполненное поле."
   ]
  },
  {
   "cell_type": "code",
   "execution_count": null,
   "metadata": {
    "collapsed": true,
    "nbpresent": {
     "id": "6530c18b-cc7d-47a5-b557-fd05e8f83ff8"
    }
   },
   "outputs": [],
   "source": [
    "def setProbability(self):\n",
    "\n",
    "        pfield = [[0] * SizeY for y in range(SizeX)]#сначала запихаем 0\n",
    "\n",
    "        for predator in self.predators:\n",
    "\n",
    "            pfield = self.setProbabilityForOne(pfield,predator.x,predator.y)#прогоняем каждого\n",
    "\n",
    "        for walls in self.walls:\n",
    "\n",
    "            pfield[walls.x][walls.y] = -1#в клетках со стенами -1\n",
    "\n",
    "        return pfield"
   ]
  },
  {
   "cell_type": "markdown",
   "metadata": {
    "nbpresent": {
     "id": "e587db29-ab9f-4bfd-8574-71f9189d24d8"
    }
   },
   "source": [
    "**findtheway(self,item,pfield)**, определяет куда каждому существу лучше сделать ход. Нужна клетка с максимальным значением. Если ход удовлетворяет параметрам поля и в новой клетке пусто, заполняем варианты хода вероятностью. Выбираем максимальный и идем туда. Если вдруг существо в углу окружено стенами и тд. то оно остается на месте."
   ]
  },
  {
   "cell_type": "code",
   "execution_count": null,
   "metadata": {
    "collapsed": true,
    "nbpresent": {
     "id": "9bfd9385-46c4-492e-80b0-1e20530ccae8"
    }
   },
   "outputs": [],
   "source": [
    "def findtheway(self,item,pfield):\n",
    "\n",
    "\n",
    "\n",
    "        pway = [ -1 for x in range(4) ]\n",
    "\n",
    "        way = [(1, 0), (-1, 0), (0, 1), (0, -1)]\n",
    "\n",
    "        for w in way:\n",
    "\n",
    "            x, y = w\n",
    "\n",
    "            if item.x + x > 0 and item.x + x < SizeX and item.y + y > 0 and item.y + y < SizeY and not self.inXY(item.x + x,item.y + y):\n",
    "\n",
    "                pway[way.index(w)] = pfield[item.x + x][item.y + y]\n",
    "\n",
    "        p = max(pway)\n",
    "\n",
    "        if p > 0 and p < SizeX+SizeY-1:\n",
    "\n",
    "            return way[pway.index(p)]\n",
    "\n",
    "        else:\n",
    "\n",
    "            return (0, 0)"
   ]
  },
  {
   "cell_type": "markdown",
   "metadata": {
    "nbpresent": {
     "id": "b83c0d8d-d039-429c-b4ed-c260f94426cb"
    }
   },
   "source": [
    "Функция **inXY** проверяет свободна ли клетка."
   ]
  },
  {
   "cell_type": "code",
   "execution_count": null,
   "metadata": {
    "collapsed": true,
    "nbpresent": {
     "id": "7483e34f-cc37-4463-9b70-b6097d415e37"
    }
   },
   "outputs": [],
   "source": [
    "def inXY(self,x,y):\n",
    "\n",
    "        for v in self.victims:\n",
    "\n",
    "            if v.x == x and v.y == y:\n",
    "\n",
    "                return True\n",
    "\n",
    "        for p in self.predators:\n",
    "\n",
    "            if p.x == x and p.y == y:\n",
    "\n",
    "                return True\n",
    "\n",
    "        return False"
   ]
  },
  {
   "cell_type": "markdown",
   "metadata": {
    "nbpresent": {
     "id": "3837e8dd-75a3-4908-a5de-edad224609ec"
    }
   },
   "source": [
    "После того как мы разобрались как существа перемещаются, надо разобраться как они рождаются, умирают и едят. \n",
    "\n",
    "\n",
    "За рождение и смерть отвечает функция **toField**\n",
    "\n",
    "Величина время жизни lifetime зависит от того хищников или жертв обрабатываем (нужно для born). Далее для кажного:\n",
    "\n",
    "- Если время рожать (borntime<=0), обновляем цикл рождения и рожаем.\n",
    "- Иначе уменьшаем время до размножения.\n",
    "\n",
    "\n",
    "- Если время жизни кончилось, то ничего не поделать, пора умирать\n",
    "- Иначе приближаем время смерти :)"
   ]
  },
  {
   "cell_type": "code",
   "execution_count": null,
   "metadata": {
    "collapsed": true,
    "nbpresent": {
     "id": "ed12aa52-4437-4eb9-8d4d-7a3bc802c6ad"
    }
   },
   "outputs": [],
   "source": [
    "def toField(self,items,pfield, let):\n",
    "\n",
    "        if let == 'V':\n",
    "\n",
    "            lifetime = Entity.VLifeTime\n",
    "\n",
    "        else:\n",
    "\n",
    "            lifetime = Entity.PLifeTime\n",
    "\n",
    "        for item in items:\n",
    "\n",
    "            if item.borntime  <= 0:\n",
    "\n",
    "                item.borntime = 3\n",
    "\n",
    "                self.born(items,item, pfield,lifetime)\n",
    "\n",
    "            else:\n",
    "\n",
    "                item.borntime -= 1\n",
    "\n",
    "            if item.lifetime <= 0:\n",
    "\n",
    "                items.remove(item)\n",
    "\n",
    "                continue\n",
    "\n",
    "            else:\n",
    "\n",
    "                item.lifetime-=1\n",
    "\n",
    "            self.field[item.x][item.y] = let"
   ]
  },
  {
   "cell_type": "markdown",
   "metadata": {
    "nbpresent": {
     "id": "d01cbb5e-3f78-40c7-a8ab-cb69d029d89f"
    }
   },
   "source": [
    "Соответственно сама функция рождения. Если соседняя клетка в поле, и там пусто, то добавляем новое существо туда."
   ]
  },
  {
   "cell_type": "code",
   "execution_count": null,
   "metadata": {
    "collapsed": true,
    "nbpresent": {
     "id": "53a9c3b2-53e8-4ff1-8e74-f1c89d240e1b"
    }
   },
   "outputs": [],
   "source": [
    "def born(self,items, item, pfield,lifetime):\n",
    "\n",
    "        way = [(1, 0), (-1, 0), (0, 1), (0, -1)]\n",
    "\n",
    "        for w in way:\n",
    "\n",
    "            x, y = w\n",
    "\n",
    "            if not self.inXY(item.x + x,item.y + y) and \\\n",
    "\n",
    "                item.x + x >= 0 and item.x + x < SizeX and item.y + y >= 0 and item.y + y < SizeY \\\n",
    "\n",
    "                and not pfield[item.x + x][item.x + x] == -1:\n",
    "\n",
    "                items.append(Entity(item.x+x,item.y+y,lifetime))\n",
    "\n",
    "                return"
   ]
  },
  {
   "cell_type": "markdown",
   "metadata": {
    "nbpresent": {
     "id": "7f15ac91-598b-4603-88bd-3f73dbb62a70"
    }
   },
   "source": [
    "И последнее это ням-ням. Если жертва рядом с хищником, он откусывает от нее кусочек, увеличивает продолжительность своей жизни на 1, и приближает время размножения."
   ]
  },
  {
   "cell_type": "code",
   "execution_count": null,
   "metadata": {
    "collapsed": true,
    "nbpresent": {
     "id": "46e736c3-139d-4e14-8f14-f490ab5a7bc1"
    }
   },
   "outputs": [],
   "source": [
    "def eat(self, item):\n",
    "\n",
    "        for victim in self.victims:\n",
    "\n",
    "            if abs(item.x - victim.x) <= 1 and abs(item.y - victim.y) <= 1:\n",
    "\n",
    "                victim.lifetime -= 3\n",
    "\n",
    "                item.lifetime += 1\n",
    "\n",
    "                item.borntime -= 1"
   ]
  },
  {
   "cell_type": "markdown",
   "metadata": {
    "nbpresent": {
     "id": "1f67af1b-dfd8-4d23-9c18-936b1029ac14"
    }
   },
   "source": [
    "Функция update все соединяет:\n",
    "    \n",
    "* заполняем \"поле вероятности\"\n",
    "* хищники ходят и \"охотятся\"\n",
    "* хищнини toField -> умирают/размножаются\n",
    "\n",
    "\n",
    "* ходят жертвы\n",
    "* жертвы toField -> умирают/размножаются\n"
   ]
  },
  {
   "cell_type": "code",
   "execution_count": null,
   "metadata": {
    "collapsed": true,
    "nbpresent": {
     "id": "4d7f6303-87eb-43d2-94ef-d5d9224f85a6"
    }
   },
   "outputs": [],
   "source": [
    "def update(self):\n",
    "\n",
    "       #заполняем поле вероятности\n",
    "\n",
    "        pfield = self.setProbability()\n",
    "\n",
    "        self.field = [['*'] * SizeY for x in range(SizeX)]\n",
    "\n",
    "\n",
    "\n",
    "\n",
    "\n",
    "        for predator in self.predators:\n",
    "\n",
    "            x, y = self.findtheway(predator, pfield)\n",
    "\n",
    "            predator.x += x\n",
    "\n",
    "            predator.y += y\n",
    "\n",
    "            self.eat(predator)\n",
    "\n",
    "        self.toField(self.predators,pfield,'P')\n",
    "\n",
    "        for victim in self.victims:\n",
    "\n",
    "            x, y = self.findtheway(victim, pfield)\n",
    "\n",
    "            victim.x += x\n",
    "\n",
    "            victim.y += y\n",
    "\n",
    "\n",
    "\n",
    "        self.toField(self.victims, pfield, 'V')\n",
    "\n",
    "        for wall in self.walls:\n",
    "\n",
    "            self.field[wall.x][wall.y] = 'W'"
   ]
  },
  {
   "cell_type": "markdown",
   "metadata": {},
   "source": [
    "![alt-текст](https://pp.vk.me/c604423/v604423918/37b5a/pGcxJicdAyw.jpg \"Необязательный титул\")\n",
    "![alt-текст](https://pp.vk.me/c604423/v604423918/37b9e/o5hwwN4XE0U.jpg \"Необязательный титул\")\n",
    "![alt-текст](https://pp.vk.me/c604423/v604423918/37ba6/G4ZyFviVx5k.jpg \"Необязательный титул\")\n",
    "![alt-текст](https://pp.vk.me/c604423/v604423918/37bae/DKlAp-5eDjE.jpg \"Необязательный титул\")\n",
    "![alt-текст](https://pp.vk.me/c604423/v604423918/37bc6/Ef0nxe9-fi0.jpg \"Необязательный титул\")\n",
    "![alt-текст](https://pp.vk.me/c604423/v604423918/37bb6/mODYrYor0FQ.jpg \"Необязательный титул\")\n",
    "![alt-текст](https://pp.vk.me/c604423/v604423918/37bbe/LIbb7IQC2-M.jpg \"Необязательный титул\")"
   ]
  },
  {
   "cell_type": "code",
   "execution_count": null,
   "metadata": {
    "collapsed": true
   },
   "outputs": [],
   "source": []
  }
 ],
 "metadata": {
  "anaconda-cloud": {},
  "kernelspec": {
   "display_name": "Python [Root]",
   "language": "python",
   "name": "Python [Root]"
  },
  "language_info": {
   "codemirror_mode": {
    "name": "ipython",
    "version": 3
   },
   "file_extension": ".py",
   "mimetype": "text/x-python",
   "name": "python",
   "nbconvert_exporter": "python",
   "pygments_lexer": "ipython3",
   "version": "3.5.2"
  }
 },
 "nbformat": 4,
 "nbformat_minor": 0
}
